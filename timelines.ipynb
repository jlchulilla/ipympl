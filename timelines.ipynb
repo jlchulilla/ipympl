{
  "nbformat": 4,
  "nbformat_minor": 0,
  "metadata": {
    "colab": {
      "name": "timelines.ipynb",
      "provenance": [],
      "collapsed_sections": [],
      "include_colab_link": true
    },
    "kernelspec": {
      "name": "python3",
      "display_name": "Python 3"
    }
  },
  "cells": [
    {
      "cell_type": "markdown",
      "metadata": {
        "id": "view-in-github",
        "colab_type": "text"
      },
      "source": [
        "<a href=\"https://colab.research.google.com/github/jlchulilla/ipympl/blob/master/timelines.ipynb\" target=\"_parent\"><img src=\"https://colab.research.google.com/assets/colab-badge.svg\" alt=\"Open In Colab\"/></a>"
      ]
    },
    {
      "cell_type": "code",
      "metadata": {
        "id": "YomzVzm9D1m0",
        "colab_type": "code",
        "colab": {}
      },
      "source": [
        "import pandas as pd\n",
        "pd.set_option('display.max_rows', 50)"
      ],
      "execution_count": 0,
      "outputs": []
    },
    {
      "cell_type": "code",
      "metadata": {
        "id": "iGMsg8QEQRuS",
        "colab_type": "code",
        "outputId": "c9264f17-4e7f-4d70-83d8-5470eed2516d",
        "colab": {
          "base_uri": "https://localhost:8080/",
          "height": 122
        }
      },
      "source": [
        "from google.colab import drive\n",
        "drive.mount('/content/drive')"
      ],
      "execution_count": 0,
      "outputs": [
        {
          "output_type": "stream",
          "text": [
            "Go to this URL in a browser: https://accounts.google.com/o/oauth2/auth?client_id=947318989803-6bn6qk8qdgf4n4g3pfee6491hc0brc4i.apps.googleusercontent.com&redirect_uri=urn%3aietf%3awg%3aoauth%3a2.0%3aoob&response_type=code&scope=email%20https%3a%2f%2fwww.googleapis.com%2fauth%2fdocs.test%20https%3a%2f%2fwww.googleapis.com%2fauth%2fdrive%20https%3a%2f%2fwww.googleapis.com%2fauth%2fdrive.photos.readonly%20https%3a%2f%2fwww.googleapis.com%2fauth%2fpeopleapi.readonly\n",
            "\n",
            "Enter your authorization code:\n",
            "··········\n",
            "Mounted at /content/drive\n"
          ],
          "name": "stdout"
        }
      ]
    },
    {
      "cell_type": "code",
      "metadata": {
        "id": "dQte0JnmBKqI",
        "colab_type": "code",
        "outputId": "3abc7199-e57a-4bd8-8210-aceedd35e0c3",
        "colab": {
          "base_uri": "https://localhost:8080/",
          "height": 359
        }
      },
      "source": [
        "#esto es para la prueba inicial, cuando se contaba con una tabla de https://coda.io/d/PP-Comunidad-de-Madrid_d6l4npB9VCk/test-fechas-tags_suV-e#_luQ5z\n",
        "df = pd.read_csv('/content/drive/My Drive/PPMadrid/test_fechas_timeline.csv',sep='\\t')\n",
        "df2 = df.melt(id_vars=['Fecha'], var_name='Tag', value_name = 'cuenta')\n",
        "df2['Fecha'] = pd.to_datetime(df2['Fecha'])#,format='%m%d%Y',errors='ignore')\n",
        "df2.head(10)\n",
        "#df2.to_csv('/content/drive/My Drive/PPMadrid/fechas_nopivot.csv',sep=',')"
      ],
      "execution_count": 0,
      "outputs": [
        {
          "output_type": "execute_result",
          "data": {
            "text/html": [
              "<div>\n",
              "<style scoped>\n",
              "    .dataframe tbody tr th:only-of-type {\n",
              "        vertical-align: middle;\n",
              "    }\n",
              "\n",
              "    .dataframe tbody tr th {\n",
              "        vertical-align: top;\n",
              "    }\n",
              "\n",
              "    .dataframe thead th {\n",
              "        text-align: right;\n",
              "    }\n",
              "</style>\n",
              "<table border=\"1\" class=\"dataframe\">\n",
              "  <thead>\n",
              "    <tr style=\"text-align: right;\">\n",
              "      <th></th>\n",
              "      <th>Fecha</th>\n",
              "      <th>Tag</th>\n",
              "      <th>cuenta</th>\n",
              "    </tr>\n",
              "  </thead>\n",
              "  <tbody>\n",
              "    <tr>\n",
              "      <th>0</th>\n",
              "      <td>2020-01-03</td>\n",
              "      <td>Covid-19</td>\n",
              "      <td>0</td>\n",
              "    </tr>\n",
              "    <tr>\n",
              "      <th>1</th>\n",
              "      <td>2020-02-03</td>\n",
              "      <td>Covid-19</td>\n",
              "      <td>0</td>\n",
              "    </tr>\n",
              "    <tr>\n",
              "      <th>2</th>\n",
              "      <td>2020-03-03</td>\n",
              "      <td>Covid-19</td>\n",
              "      <td>0</td>\n",
              "    </tr>\n",
              "    <tr>\n",
              "      <th>3</th>\n",
              "      <td>2020-04-03</td>\n",
              "      <td>Covid-19</td>\n",
              "      <td>0</td>\n",
              "    </tr>\n",
              "    <tr>\n",
              "      <th>4</th>\n",
              "      <td>2020-05-03</td>\n",
              "      <td>Covid-19</td>\n",
              "      <td>0</td>\n",
              "    </tr>\n",
              "    <tr>\n",
              "      <th>5</th>\n",
              "      <td>2020-06-03</td>\n",
              "      <td>Covid-19</td>\n",
              "      <td>0</td>\n",
              "    </tr>\n",
              "    <tr>\n",
              "      <th>6</th>\n",
              "      <td>2020-07-03</td>\n",
              "      <td>Covid-19</td>\n",
              "      <td>0</td>\n",
              "    </tr>\n",
              "    <tr>\n",
              "      <th>7</th>\n",
              "      <td>2020-08-03</td>\n",
              "      <td>Covid-19</td>\n",
              "      <td>0</td>\n",
              "    </tr>\n",
              "    <tr>\n",
              "      <th>8</th>\n",
              "      <td>2020-09-03</td>\n",
              "      <td>Covid-19</td>\n",
              "      <td>0</td>\n",
              "    </tr>\n",
              "    <tr>\n",
              "      <th>9</th>\n",
              "      <td>2020-10-03</td>\n",
              "      <td>Covid-19</td>\n",
              "      <td>0</td>\n",
              "    </tr>\n",
              "  </tbody>\n",
              "</table>\n",
              "</div>"
            ],
            "text/plain": [
              "       Fecha       Tag  cuenta\n",
              "0 2020-01-03  Covid-19       0\n",
              "1 2020-02-03  Covid-19       0\n",
              "2 2020-03-03  Covid-19       0\n",
              "3 2020-04-03  Covid-19       0\n",
              "4 2020-05-03  Covid-19       0\n",
              "5 2020-06-03  Covid-19       0\n",
              "6 2020-07-03  Covid-19       0\n",
              "7 2020-08-03  Covid-19       0\n",
              "8 2020-09-03  Covid-19       0\n",
              "9 2020-10-03  Covid-19       0"
            ]
          },
          "metadata": {
            "tags": []
          },
          "execution_count": 145
        }
      ]
    },
    {
      "cell_type": "code",
      "metadata": {
        "id": "rc6MWd1FDwce",
        "colab_type": "code",
        "colab": {}
      },
      "source": [
        "#esto es para cargar la fetén, creada con el script crea_tabla_tags_fechas_paraaltair.py\n",
        "#hay que filtrar las etiquetas que queramos\n",
        "df2 = pd.read_csv('/content/drive/My Drive/PPMadrid/limpio_fechas_tags_comadrid_googlenl.csv')"
      ],
      "execution_count": 0,
      "outputs": []
    },
    {
      "cell_type": "code",
      "metadata": {
        "id": "3_sk3PsdBfka",
        "colab_type": "code",
        "outputId": "ede5100b-f86e-4a3a-dde0-3a3bd764f786",
        "colab": {
          "base_uri": "https://localhost:8080/",
          "height": 197
        }
      },
      "source": [
        "import altair as alt\n",
        "\n",
        "import pandas as pd\n",
        "pd.set_option('display.max_rows', 50)\n",
        "\n",
        "#esto es para que sólo salga en X las fechas que queremos\n",
        "rangofechas = [\"2020-03-01\", \"2020-5-31\"]\n",
        "\n",
        "#df2 = pd.read_csv('/content/drive/My Drive/PPMadrid/fechas_nopivot.csv')\n",
        "line = alt.Chart(df2).mark_circle(\n",
        "    opacity=0.8,\n",
        "    stroke='black',\n",
        "    strokeWidth=1\n",
        ").encode(\n",
        "    alt.X('Fecha:T', axis=alt.Axis(labelAngle=60,format='%d/%m'),\n",
        "          scale=alt.Scale(domain=rangofechas)),\n",
        "    alt.Y('Tag:N'),\n",
        "    alt.Size('cuenta:Q',\n",
        "        scale=alt.Scale(range=[0,100]),\n",
        "        legend=alt.Legend(title='Apariciones por día')\n",
        "    ),\n",
        "    alt.Color('Tag:N', legend=None)\n",
        ").properties(\n",
        "    width=500,\n",
        "    height=150\n",
        ")\n",
        "#nearest = alt.selection(type='single', nearest=True, on='mouseover',fields=['Fecha:O'], empty='none')\n",
        "\n",
        "rules = alt.Chart(df2).mark_rule(color='lightgray').encode(\n",
        "    x='Fecha:T',\n",
        "    y='Tag:N'\n",
        ")\n",
        "\n",
        "\n",
        "\n",
        "alt.layer(line).configure_axis(\n",
        "    labelFontSize=12,\n",
        "    titleFontSize=14)"
      ],
      "execution_count": 0,
      "outputs": [
        {
          "output_type": "error",
          "ename": "NameError",
          "evalue": "ignored",
          "traceback": [
            "\u001b[0;31m---------------------------------------------------------------------------\u001b[0m",
            "\u001b[0;31mNameError\u001b[0m                                 Traceback (most recent call last)",
            "\u001b[0;32m<ipython-input-159-77fbb8368f2c>\u001b[0m in \u001b[0;36m<module>\u001b[0;34m()\u001b[0m\n\u001b[1;32m     31\u001b[0m alt.layer(line).configure_axis(\n\u001b[1;32m     32\u001b[0m     \u001b[0mlabelFontSize\u001b[0m\u001b[0;34m=\u001b[0m\u001b[0;36m12\u001b[0m\u001b[0;34m,\u001b[0m\u001b[0;34m\u001b[0m\u001b[0;34m\u001b[0m\u001b[0m\n\u001b[0;32m---> 33\u001b[0;31m     titleFontSize=14).transform_filter(datum.df2['tag'] == 'Comunidad de Madrid')\n\u001b[0m",
            "\u001b[0;31mNameError\u001b[0m: name 'datum' is not defined"
          ]
        }
      ]
    },
    {
      "cell_type": "code",
      "metadata": {
        "id": "oUK5OCE2LNhP",
        "colab_type": "code",
        "cellView": "code",
        "outputId": "e500374b-04d2-410d-8a4f-f121e142e2e8",
        "colab": {
          "base_uri": "https://localhost:8080/",
          "height": 442
        }
      },
      "source": [
        "#@title Fallecimientos por día\n",
        "#@markdown Para seleccionar los tags a representar, escriba los tags se parados por comas. Ejemplo: `Comunidad de Madrid,COVID-19,Díaz Ayuso,residencias`. \n",
        "#@markdown \n",
        "#@markdown La  lista disponible es...\n",
        "#@markdown \n",
        "#@markdown pulse Ctrl + Enter para renovar el gráfico\n",
        "\n",
        "#lista para seleccionar países\n",
        "df2 = pd.read_csv('/content/drive/My Drive/PPMadrid/limpio_fechas_tags_comadrid_googlenl.csv')\n",
        "df3 = pd.read_csv('/content/drive/My Drive/PPMadrid/limpio_fechas_tags_comadrid_oandoqda.csv')\n",
        "filtratags2 = \"COVID-19,AULA,violencia de género,discapacidad\"  #@param {type: \"string\"}\n",
        "listatags2 = filtratags2.split(',')\n",
        "print(listatags)\n",
        "filtratags3 = \"Covid-19,AULA,Violencia de género,Personas con discapacidad \"  #@param {type: \"string\"}\n",
        "listatags3 = filtratags3.split(',')\n",
        "\n",
        "\n",
        "df2 = df2[df2['tag'].isin(listatags2)]\n",
        "df3 = df3[df3['tag'].isin(listatags3)]\n",
        "print(df2)\n",
        "\n",
        "#El fetén\n",
        "import altair as alt\n",
        "rangofechas = [\"2020-03-01\", \"2020-5-31\"]\n",
        "\n",
        "#df2 = pd.read_csv('/content/drive/My Drive/PPMadrid/fechas_nopivot.csv')\n",
        "def base_timeline(df):\n",
        "  line = alt.Chart(df).mark_circle(\n",
        "      opacity=0.8,\n",
        "      stroke='black',\n",
        "      strokeWidth=1\n",
        "  ).encode(\n",
        "      alt.X('fecha:T', axis=alt.Axis(labelAngle=60,format='%d/%m'),\n",
        "            scale=alt.Scale(domain=rangofechas)),\n",
        "      alt.Y('tag:N'),\n",
        "      alt.Size('cuentafecha:Q',\n",
        "          scale=alt.Scale(range=[0,200]),\n",
        "          legend=alt.Legend(title='count x day', symbolFillColor = 'red')\n",
        "      ),\n",
        "      alt.Color('tag:N', legend=None)\n",
        "  ).properties(\n",
        "      width=700,\n",
        "      height=150\n",
        "  )\n",
        "  #nearest = alt.selection(type='single', nearest=True, on='mouseover',fields=['Fecha:O'], empty='none')\n",
        "\n",
        "  rules = alt.Chart(df2).mark_rule(color='lightgray').encode(\n",
        "      x='Fecha:T',\n",
        "      y='Tag:N'\n",
        "  )\n",
        "  return line\n",
        "\n",
        "\n",
        "line2 = base_timeline(df2)\n",
        "alt.layer(line).configure_axis(\n",
        "  labelFontSize=12,\n",
        "  titleFontSize=14\n",
        "  ).properties(\n",
        "  title='Named Entity Recognized Timeline'\n",
        ").configure_title(\n",
        "  fontSize=20,\n",
        "  color='gray',\n",
        "  dy =-10\n",
        ").interactive()\n",
        "\n",
        "line3 = base_timeline(df3)\n",
        "alt.vconcat(line2,line3).configure_axis(\n",
        "  labelFontSize=12,\n",
        "  titleFontSize=14\n",
        "  ).properties(\n",
        "  title='Qualitative Entities and Machine Learning Entities Timeline'\n",
        ").configure_title(\n",
        "  fontSize=20,\n",
        "  color='gray',\n",
        "  dy =-10\n",
        ")\n",
        "\n",
        "\n",
        "  \n",
        "\n",
        "\n",
        "\n",
        "\n",
        "\n",
        "\n"
      ],
      "execution_count": 0,
      "outputs": [
        {
          "output_type": "error",
          "ename": "FileNotFoundError",
          "evalue": "ignored",
          "traceback": [
            "\u001b[0;31m---------------------------------------------------------------------------\u001b[0m",
            "\u001b[0;31mFileNotFoundError\u001b[0m                         Traceback (most recent call last)",
            "\u001b[0;32m<ipython-input-3-916a13e4547e>\u001b[0m in \u001b[0;36m<module>\u001b[0;34m()\u001b[0m\n\u001b[1;32m      7\u001b[0m \u001b[0;34m\u001b[0m\u001b[0m\n\u001b[1;32m      8\u001b[0m \u001b[0;31m#lista para seleccionar países\u001b[0m\u001b[0;34m\u001b[0m\u001b[0;34m\u001b[0m\u001b[0;34m\u001b[0m\u001b[0m\n\u001b[0;32m----> 9\u001b[0;31m \u001b[0mdf2\u001b[0m \u001b[0;34m=\u001b[0m \u001b[0mpd\u001b[0m\u001b[0;34m.\u001b[0m\u001b[0mread_csv\u001b[0m\u001b[0;34m(\u001b[0m\u001b[0;34m'/content/drive/My Drive/PPMadrid/limpio_fechas_tags_comadrid_googlenl.csv'\u001b[0m\u001b[0;34m)\u001b[0m\u001b[0;34m\u001b[0m\u001b[0;34m\u001b[0m\u001b[0m\n\u001b[0m\u001b[1;32m     10\u001b[0m \u001b[0mdf3\u001b[0m \u001b[0;34m=\u001b[0m \u001b[0mpd\u001b[0m\u001b[0;34m.\u001b[0m\u001b[0mread_csv\u001b[0m\u001b[0;34m(\u001b[0m\u001b[0;34m'/content/drive/My Drive/PPMadrid/limpio_fechas_tags_comadrid_oandoqda.csv'\u001b[0m\u001b[0;34m)\u001b[0m\u001b[0;34m\u001b[0m\u001b[0;34m\u001b[0m\u001b[0m\n\u001b[1;32m     11\u001b[0m \u001b[0mfiltratags2\u001b[0m \u001b[0;34m=\u001b[0m \u001b[0;34m\"COVID-19,AULA,violencia de género,discapacidad\"\u001b[0m  \u001b[0;31m#@param {type: \"string\"}\u001b[0m\u001b[0;34m\u001b[0m\u001b[0;34m\u001b[0m\u001b[0m\n",
            "\u001b[0;32m/usr/local/lib/python3.6/dist-packages/pandas/io/parsers.py\u001b[0m in \u001b[0;36mparser_f\u001b[0;34m(filepath_or_buffer, sep, delimiter, header, names, index_col, usecols, squeeze, prefix, mangle_dupe_cols, dtype, engine, converters, true_values, false_values, skipinitialspace, skiprows, skipfooter, nrows, na_values, keep_default_na, na_filter, verbose, skip_blank_lines, parse_dates, infer_datetime_format, keep_date_col, date_parser, dayfirst, cache_dates, iterator, chunksize, compression, thousands, decimal, lineterminator, quotechar, quoting, doublequote, escapechar, comment, encoding, dialect, error_bad_lines, warn_bad_lines, delim_whitespace, low_memory, memory_map, float_precision)\u001b[0m\n\u001b[1;32m    674\u001b[0m         )\n\u001b[1;32m    675\u001b[0m \u001b[0;34m\u001b[0m\u001b[0m\n\u001b[0;32m--> 676\u001b[0;31m         \u001b[0;32mreturn\u001b[0m \u001b[0m_read\u001b[0m\u001b[0;34m(\u001b[0m\u001b[0mfilepath_or_buffer\u001b[0m\u001b[0;34m,\u001b[0m \u001b[0mkwds\u001b[0m\u001b[0;34m)\u001b[0m\u001b[0;34m\u001b[0m\u001b[0;34m\u001b[0m\u001b[0m\n\u001b[0m\u001b[1;32m    677\u001b[0m \u001b[0;34m\u001b[0m\u001b[0m\n\u001b[1;32m    678\u001b[0m     \u001b[0mparser_f\u001b[0m\u001b[0;34m.\u001b[0m\u001b[0m__name__\u001b[0m \u001b[0;34m=\u001b[0m \u001b[0mname\u001b[0m\u001b[0;34m\u001b[0m\u001b[0;34m\u001b[0m\u001b[0m\n",
            "\u001b[0;32m/usr/local/lib/python3.6/dist-packages/pandas/io/parsers.py\u001b[0m in \u001b[0;36m_read\u001b[0;34m(filepath_or_buffer, kwds)\u001b[0m\n\u001b[1;32m    446\u001b[0m \u001b[0;34m\u001b[0m\u001b[0m\n\u001b[1;32m    447\u001b[0m     \u001b[0;31m# Create the parser.\u001b[0m\u001b[0;34m\u001b[0m\u001b[0;34m\u001b[0m\u001b[0;34m\u001b[0m\u001b[0m\n\u001b[0;32m--> 448\u001b[0;31m     \u001b[0mparser\u001b[0m \u001b[0;34m=\u001b[0m \u001b[0mTextFileReader\u001b[0m\u001b[0;34m(\u001b[0m\u001b[0mfp_or_buf\u001b[0m\u001b[0;34m,\u001b[0m \u001b[0;34m**\u001b[0m\u001b[0mkwds\u001b[0m\u001b[0;34m)\u001b[0m\u001b[0;34m\u001b[0m\u001b[0;34m\u001b[0m\u001b[0m\n\u001b[0m\u001b[1;32m    449\u001b[0m \u001b[0;34m\u001b[0m\u001b[0m\n\u001b[1;32m    450\u001b[0m     \u001b[0;32mif\u001b[0m \u001b[0mchunksize\u001b[0m \u001b[0;32mor\u001b[0m \u001b[0miterator\u001b[0m\u001b[0;34m:\u001b[0m\u001b[0;34m\u001b[0m\u001b[0;34m\u001b[0m\u001b[0m\n",
            "\u001b[0;32m/usr/local/lib/python3.6/dist-packages/pandas/io/parsers.py\u001b[0m in \u001b[0;36m__init__\u001b[0;34m(self, f, engine, **kwds)\u001b[0m\n\u001b[1;32m    878\u001b[0m             \u001b[0mself\u001b[0m\u001b[0;34m.\u001b[0m\u001b[0moptions\u001b[0m\u001b[0;34m[\u001b[0m\u001b[0;34m\"has_index_names\"\u001b[0m\u001b[0;34m]\u001b[0m \u001b[0;34m=\u001b[0m \u001b[0mkwds\u001b[0m\u001b[0;34m[\u001b[0m\u001b[0;34m\"has_index_names\"\u001b[0m\u001b[0;34m]\u001b[0m\u001b[0;34m\u001b[0m\u001b[0;34m\u001b[0m\u001b[0m\n\u001b[1;32m    879\u001b[0m \u001b[0;34m\u001b[0m\u001b[0m\n\u001b[0;32m--> 880\u001b[0;31m         \u001b[0mself\u001b[0m\u001b[0;34m.\u001b[0m\u001b[0m_make_engine\u001b[0m\u001b[0;34m(\u001b[0m\u001b[0mself\u001b[0m\u001b[0;34m.\u001b[0m\u001b[0mengine\u001b[0m\u001b[0;34m)\u001b[0m\u001b[0;34m\u001b[0m\u001b[0;34m\u001b[0m\u001b[0m\n\u001b[0m\u001b[1;32m    881\u001b[0m \u001b[0;34m\u001b[0m\u001b[0m\n\u001b[1;32m    882\u001b[0m     \u001b[0;32mdef\u001b[0m \u001b[0mclose\u001b[0m\u001b[0;34m(\u001b[0m\u001b[0mself\u001b[0m\u001b[0;34m)\u001b[0m\u001b[0;34m:\u001b[0m\u001b[0;34m\u001b[0m\u001b[0;34m\u001b[0m\u001b[0m\n",
            "\u001b[0;32m/usr/local/lib/python3.6/dist-packages/pandas/io/parsers.py\u001b[0m in \u001b[0;36m_make_engine\u001b[0;34m(self, engine)\u001b[0m\n\u001b[1;32m   1112\u001b[0m     \u001b[0;32mdef\u001b[0m \u001b[0m_make_engine\u001b[0m\u001b[0;34m(\u001b[0m\u001b[0mself\u001b[0m\u001b[0;34m,\u001b[0m \u001b[0mengine\u001b[0m\u001b[0;34m=\u001b[0m\u001b[0;34m\"c\"\u001b[0m\u001b[0;34m)\u001b[0m\u001b[0;34m:\u001b[0m\u001b[0;34m\u001b[0m\u001b[0;34m\u001b[0m\u001b[0m\n\u001b[1;32m   1113\u001b[0m         \u001b[0;32mif\u001b[0m \u001b[0mengine\u001b[0m \u001b[0;34m==\u001b[0m \u001b[0;34m\"c\"\u001b[0m\u001b[0;34m:\u001b[0m\u001b[0;34m\u001b[0m\u001b[0;34m\u001b[0m\u001b[0m\n\u001b[0;32m-> 1114\u001b[0;31m             \u001b[0mself\u001b[0m\u001b[0;34m.\u001b[0m\u001b[0m_engine\u001b[0m \u001b[0;34m=\u001b[0m \u001b[0mCParserWrapper\u001b[0m\u001b[0;34m(\u001b[0m\u001b[0mself\u001b[0m\u001b[0;34m.\u001b[0m\u001b[0mf\u001b[0m\u001b[0;34m,\u001b[0m \u001b[0;34m**\u001b[0m\u001b[0mself\u001b[0m\u001b[0;34m.\u001b[0m\u001b[0moptions\u001b[0m\u001b[0;34m)\u001b[0m\u001b[0;34m\u001b[0m\u001b[0;34m\u001b[0m\u001b[0m\n\u001b[0m\u001b[1;32m   1115\u001b[0m         \u001b[0;32melse\u001b[0m\u001b[0;34m:\u001b[0m\u001b[0;34m\u001b[0m\u001b[0;34m\u001b[0m\u001b[0m\n\u001b[1;32m   1116\u001b[0m             \u001b[0;32mif\u001b[0m \u001b[0mengine\u001b[0m \u001b[0;34m==\u001b[0m \u001b[0;34m\"python\"\u001b[0m\u001b[0;34m:\u001b[0m\u001b[0;34m\u001b[0m\u001b[0;34m\u001b[0m\u001b[0m\n",
            "\u001b[0;32m/usr/local/lib/python3.6/dist-packages/pandas/io/parsers.py\u001b[0m in \u001b[0;36m__init__\u001b[0;34m(self, src, **kwds)\u001b[0m\n\u001b[1;32m   1889\u001b[0m         \u001b[0mkwds\u001b[0m\u001b[0;34m[\u001b[0m\u001b[0;34m\"usecols\"\u001b[0m\u001b[0;34m]\u001b[0m \u001b[0;34m=\u001b[0m \u001b[0mself\u001b[0m\u001b[0;34m.\u001b[0m\u001b[0musecols\u001b[0m\u001b[0;34m\u001b[0m\u001b[0;34m\u001b[0m\u001b[0m\n\u001b[1;32m   1890\u001b[0m \u001b[0;34m\u001b[0m\u001b[0m\n\u001b[0;32m-> 1891\u001b[0;31m         \u001b[0mself\u001b[0m\u001b[0;34m.\u001b[0m\u001b[0m_reader\u001b[0m \u001b[0;34m=\u001b[0m \u001b[0mparsers\u001b[0m\u001b[0;34m.\u001b[0m\u001b[0mTextReader\u001b[0m\u001b[0;34m(\u001b[0m\u001b[0msrc\u001b[0m\u001b[0;34m,\u001b[0m \u001b[0;34m**\u001b[0m\u001b[0mkwds\u001b[0m\u001b[0;34m)\u001b[0m\u001b[0;34m\u001b[0m\u001b[0;34m\u001b[0m\u001b[0m\n\u001b[0m\u001b[1;32m   1892\u001b[0m         \u001b[0mself\u001b[0m\u001b[0;34m.\u001b[0m\u001b[0munnamed_cols\u001b[0m \u001b[0;34m=\u001b[0m \u001b[0mself\u001b[0m\u001b[0;34m.\u001b[0m\u001b[0m_reader\u001b[0m\u001b[0;34m.\u001b[0m\u001b[0munnamed_cols\u001b[0m\u001b[0;34m\u001b[0m\u001b[0;34m\u001b[0m\u001b[0m\n\u001b[1;32m   1893\u001b[0m \u001b[0;34m\u001b[0m\u001b[0m\n",
            "\u001b[0;32mpandas/_libs/parsers.pyx\u001b[0m in \u001b[0;36mpandas._libs.parsers.TextReader.__cinit__\u001b[0;34m()\u001b[0m\n",
            "\u001b[0;32mpandas/_libs/parsers.pyx\u001b[0m in \u001b[0;36mpandas._libs.parsers.TextReader._setup_parser_source\u001b[0;34m()\u001b[0m\n",
            "\u001b[0;31mFileNotFoundError\u001b[0m: [Errno 2] File /content/drive/My Drive/PPMadrid/limpio_fechas_tags_comadrid_googlenl.csv does not exist: '/content/drive/My Drive/PPMadrid/limpio_fechas_tags_comadrid_googlenl.csv'"
          ]
        }
      ]
    },
    {
      "cell_type": "code",
      "metadata": {
        "id": "H8KuI83yDRkE",
        "colab_type": "code",
        "outputId": "08b98905-5cd7-43c0-a72f-6d7c15bf759b",
        "colab": {
          "base_uri": "https://localhost:8080/",
          "height": 265
        }
      },
      "source": [
        "import datetime as dt\n",
        "import matplotlib.pyplot as plt\n",
        "import matplotlib.dates as mdates\n",
        "from matplotlib.collections import PolyCollection\n",
        "\n",
        "data = [    (dt.datetime(2018, 7, 17, 0, 15), dt.datetime(2018, 7, 17, 0, 30), 'sleep'),\n",
        "            (dt.datetime(2018, 7, 17, 0, 30), dt.datetime(2018, 7, 17, 0, 45), 'eat'),\n",
        "            (dt.datetime(2018, 7, 17, 0, 45), dt.datetime(2018, 7, 17, 1, 0), 'work'),\n",
        "            (dt.datetime(2018, 7, 17, 1, 0), dt.datetime(2018, 7, 17, 1, 30), 'sleep'),\n",
        "            (dt.datetime(2018, 7, 17, 1, 15), dt.datetime(2018, 7, 17, 1, 30), 'eat'), \n",
        "            (dt.datetime(2018, 7, 17, 1, 30), dt.datetime(2018, 7, 17, 1, 45), 'work')\n",
        "        ]\n",
        "\n",
        "cats = {\"sleep\" : 1, \"eat\" : 2, \"work\" : 3}\n",
        "colormapping = {\"sleep\" : \"C0\", \"eat\" : \"C1\", \"work\" : \"C2\"}\n",
        "\n",
        "verts = []\n",
        "colors = []\n",
        "for d in data:\n",
        "    v =  [(mdates.date2num(d[0]), cats[d[2]]-.4),\n",
        "          (mdates.date2num(d[0]), cats[d[2]]+.4),\n",
        "          (mdates.date2num(d[1]), cats[d[2]]+.4),\n",
        "          (mdates.date2num(d[1]), cats[d[2]]-.4),\n",
        "          (mdates.date2num(d[0]), cats[d[2]]-.4)]\n",
        "    verts.append(v)\n",
        "    colors.append(colormapping[d[2]])\n",
        "\n",
        "bars = PolyCollection(verts, facecolors=colors)\n",
        "\n",
        "fig, ax = plt.subplots()\n",
        "ax.add_collection(bars)\n",
        "ax.autoscale()\n",
        "loc = mdates.MinuteLocator(byminute=[0,15,30,45])\n",
        "ax.xaxis.set_major_locator(loc)\n",
        "ax.xaxis.set_major_formatter(mdates.AutoDateFormatter(loc))\n",
        "\n",
        "ax.set_yticks([1,2,3])\n",
        "ax.set_yticklabels([\"sleep\", \"eat\", \"work\"])\n",
        "plt.show()"
      ],
      "execution_count": 0,
      "outputs": [
        {
          "output_type": "display_data",
          "data": {
            "image/png": "[encoded data removed]",
            "text/plain": [
              "<Figure size 432x288 with 1 Axes>"
            ]
          },
          "metadata": {
            "tags": [],
            "needs_background": "light"
          }
        }
      ]
    },
    {
      "cell_type": "code",
      "metadata": {
        "id": "vXpfTi5-FJNU",
        "colab_type": "code",
        "outputId": "26cb69b0-77ae-4562-f329-bf4b7fcf1531",
        "colab": {
          "base_uri": "https://localhost:8080/",
          "height": 279
        }
      },
      "source": [
        "fig, ax = plt.subplots()\n",
        "ax.broken_barh([(70, 20), (100,20), (150, 10)], (30, 9), facecolors='tab:red')\n",
        "ax.broken_barh([(110, 30), (150, 10)], (10, 9), facecolors='tab:blue')\n",
        "ax.broken_barh([(10, 50), (100, 20), (130, 10)], (20, 9),\n",
        "               facecolors=('tab:orange', 'tab:green', 'tab:purple'))\n",
        "\n",
        "ax.set_ylim(5, 50)\n",
        "ax.set_xlim(0, 200)\n",
        "ax.set_xlabel('seconds since start')\n",
        "ax.set_yticks([15, 25, 35])\n",
        "ax.set_yticklabels(['Bill', 'Jim', 'Bill2'])\n",
        "ax.grid(True)\n",
        "\n",
        "\n",
        "plt.show()"
      ],
      "execution_count": 0,
      "outputs": [
        {
          "output_type": "display_data",
          "data": {
            "image/png": "[encoded data removed]",
            "text/plain": [
              "<Figure size 432x288 with 1 Axes>"
            ]
          },
          "metadata": {
            "tags": [],
            "needs_background": "light"
          }
        }
      ]
    }
  ]
}